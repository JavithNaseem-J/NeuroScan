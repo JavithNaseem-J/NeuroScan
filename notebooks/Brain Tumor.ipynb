{
  "cells": [
    {
      "cell_type": "code",
      "execution_count": null,
      "metadata": {
        "id": "aZ9U_LNaFFS2"
      },
      "outputs": [],
      "source": [
        "!pip install opendatasets"
      ]
    },
    {
      "cell_type": "code",
      "execution_count": null,
      "metadata": {
        "id": "vGVe8zXHKIxs"
      },
      "outputs": [],
      "source": [
        "import opendatasets as od"
      ]
    },
    {
      "cell_type": "code",
      "execution_count": null,
      "metadata": {
        "id": "eQFffmHpKQzX"
      },
      "outputs": [],
      "source": [
        "od.download(\"https://www.kaggle.com/datasets/masoudnickparvar/brain-tumor-mri-dataset/data\")"
      ]
    },
    {
      "cell_type": "code",
      "execution_count": null,
      "metadata": {
        "id": "N8GMTxcLLbCd"
      },
      "outputs": [],
      "source": [
        "import os\n",
        "import random\n",
        "from tqdm import tqdm\n",
        "import numpy as np\n",
        "import pandas as pd\n",
        "import matplotlib.pyplot as plt\n",
        "import cv2\n",
        "import seaborn as sns\n",
        "from IPython.display import Image\n",
        "import imutils"
      ]
    },
    {
      "cell_type": "code",
      "execution_count": null,
      "metadata": {},
      "outputs": [],
      "source": []
    },
    {
      "cell_type": "code",
      "execution_count": null,
      "metadata": {
        "id": "Q5BIch4VMMxI"
      },
      "outputs": [],
      "source": [
        "os.mkdir(\"Crop-Brain-MRI/\")\n",
        "os.mkdir(\"Crop-Brain-MRI/glioma\")\n",
        "os.mkdir(\"Crop-Brain-MRI/meningioma\")\n",
        "os.mkdir(\"Crop-Brain-MRI/notumor\")\n",
        "os.mkdir(\"Crop-Brain-MRI/pituitary\")"
      ]
    },
    {
      "cell_type": "code",
      "execution_count": null,
      "metadata": {
        "id": "kq2On8ExQkSw"
      },
      "outputs": [],
      "source": [
        "os.mkdir(\"Test-Data\")\n",
        "os.mkdir(\"Test-Data/glioma\")\n",
        "os.mkdir(\"Test-Data/meningioma\")\n",
        "os.mkdir(\"Test-Data/notumor\")\n",
        "os.mkdir(\"Test-Data/pituitary\")"
      ]
    },
    {
      "cell_type": "markdown",
      "metadata": {
        "id": "9KuUFVWWQ8tw"
      },
      "source": [
        "**Data Visualization**"
      ]
    },
    {
      "cell_type": "code",
      "execution_count": null,
      "metadata": {
        "id": "XT8yRDBCQ6WA"
      },
      "outputs": [],
      "source": [
        "train_dir = \"brain-tumor-mri-dataset/Training/\"\n",
        "test_dir = \"brain-tumor-mri-dataset/Testing/\""
      ]
    },
    {
      "cell_type": "code",
      "execution_count": null,
      "metadata": {
        "id": "qCDUET8DRm0j"
      },
      "outputs": [],
      "source": [
        "classes = os.listdir(\"brain-tumor-mri-dataset/Training/\")\n",
        "classes"
      ]
    },
    {
      "cell_type": "code",
      "execution_count": null,
      "metadata": {
        "id": "0ktnRgdQSJZG"
      },
      "outputs": [],
      "source": [
        "filepath_dict  ={}\n",
        "\n",
        "for c in classes:\n",
        "  filepath_dict[c] = list(map(lambda x : train_dir + c + '/' + x, os.listdir(train_dir + c)))"
      ]
    },
    {
      "cell_type": "markdown",
      "metadata": {
        "id": "f6B8OvAbUztm"
      },
      "source": []
    },
    {
      "cell_type": "code",
      "execution_count": null,
      "metadata": {
        "id": "mSnPM8wxSH1X"
      },
      "outputs": [],
      "source": [
        "filepath_dict"
      ]
    },
    {
      "cell_type": "code",
      "execution_count": null,
      "metadata": {
        "id": "FH9vz3gsVOOS"
      },
      "outputs": [],
      "source": [
        "from tensorflow.keras.preprocessing.image import load_img\n",
        "\n",
        "plt.figure(figsize = (17, 17))\n",
        "\n",
        "index = 0\n",
        "\n",
        "for c in classes:\n",
        "  random.shuffle(filepath_dict[c])\n",
        "  path_list = filepath_dict[c][:5]\n",
        "\n",
        "  for i in range(1, 5):\n",
        "    index +=1\n",
        "    plt.subplot(4, 4,index)\n",
        "    plt.imshow(load_img(path_list[i]))\n",
        "    plt.title(c)"
      ]
    },
    {
      "cell_type": "code",
      "execution_count": null,
      "metadata": {
        "id": "dCQSWX3jVvDL"
      },
      "outputs": [],
      "source": [
        "No_images_per_class = []\n",
        "Class_name = []\n",
        "for i in os.listdir(\"brain-tumor-mri-dataset/Training\"):\n",
        "  train_class = os.listdir(os.path.join(\"brain-tumor-mri-dataset/Training\", i))\n",
        "  No_images_per_class.append(len(train_class))\n",
        "  Class_name.append(i)\n",
        "  print(f\"Number of images in {i} : {len(train_class)}\")"
      ]
    },
    {
      "cell_type": "code",
      "execution_count": null,
      "metadata": {
        "id": "_nnpm3s4Ytgq"
      },
      "outputs": [],
      "source": [
        "plt.figure(figsize =(8, 8))\n",
        "colors = sns.color_palette('pastel')\n",
        "plt.pie(No_images_per_class, labels = Class_name, autopct = \"%1.1f%%\", colors = colors)\n",
        "plt.show()"
      ]
    },
    {
      "cell_type": "code",
      "execution_count": null,
      "metadata": {
        "id": "jWVDQ4smYX1h"
      },
      "outputs": [],
      "source": [
        "def crop_image(image, plot=False):\n",
        "\n",
        "  img_gray = cv2.cvtColor(image, cv2.COLOR_BGR2GRAY)\n",
        "  img_blur = cv2.GaussianBlur(img_gray, (5, 5), 0)\n",
        "  img_thresh = cv2.threshold(img_blur, 45, 255, cv2.THRESH_BINARY)[1]\n",
        "  img_thresh = cv2.erode(img_thresh, None, iterations = 2)\n",
        "  img_thresh = cv2.dilate(img_thresh, None, iterations = 2)\n",
        "\n",
        "  contours = cv2.findContours(img_thresh.copy(), cv2.RETR_EXTERNAL, cv2.CHAIN_APPROX_NONE)\n",
        "\n",
        "  contours = imutils.grab_contours(contours)\n",
        "\n",
        "  c = max(contours, key = cv2.contourArea)\n",
        "\n",
        "  extLeft = tuple(c[c[:, :, 0].argmin()])[0]\n",
        "  extRight = tuple(c[c[:, :, 0].argmax()])[0]\n",
        "  extTop = tuple(c[c[:, :, 1].argmin()])[0]\n",
        "  extBottom = tuple(c[c[:, :, 1].argmax()])[0]\n",
        "\n",
        "  new_img = image[extTop[1]: extBottom[1], extLeft[0]:extRight[0]]\n",
        "\n",
        "  if plot:\n",
        "    plt.figure(figsize = (15, 6))\n",
        "    plt.subplot(1, 2, 1)\n",
        "    plt.imshow(image)\n",
        "    plt.title(\"Original Image\")\n",
        "    plt.subplot(1, 2, 2)\n",
        "    plt.imshow(new_img)\n",
        "    plt.title(\"Cropped Image\")\n",
        "    plt.show()\n",
        "  return new_img"
      ]
    },
    {
      "cell_type": "code",
      "execution_count": null,
      "metadata": {
        "id": "Bd9hbU4yauE6"
      },
      "outputs": [],
      "source": [
        "example_img = cv2.imread(\"brain-tumor-mri-dataset/Testing/glioma/Te-glTr_0000.jpg\")\n",
        "cropped_imgs = crop_image(example_img, plot=True)"
      ]
    },
    {
      "cell_type": "code",
      "execution_count": null,
      "metadata": {
        "id": "pkyObvzrdfw1"
      },
      "outputs": [],
      "source": [
        "glioma = train_dir + 'glioma'\n",
        "meningioma = train_dir + 'meningioma'\n",
        "pituitary = train_dir + 'pituitary'\n",
        "no_tumor = train_dir + 'notumor'\n",
        "j = 0\n",
        "for i in tqdm(os.listdir(glioma)):\n",
        "  path = os.path.join(glioma , i)\n",
        "  img = cv2.imread(path)\n",
        "  img = crop_image(img, plot=False)\n",
        "  if img is not None:\n",
        "    img = cv2.resize(img, (240, 240))\n",
        "    save_path = 'Crop-Brain-MRI/glioma/' + str(j) + '.jpg'\n",
        "    cv2.imwrite(save_path, img)\n",
        "    j = j + 1"
      ]
    },
    {
      "cell_type": "code",
      "execution_count": null,
      "metadata": {
        "id": "T-ggPV05qz1z"
      },
      "outputs": [],
      "source": [
        "j = 0\n",
        "for i in tqdm(os.listdir(meningioma)):\n",
        "  path = os.path.join(meningioma , i)\n",
        "  img = cv2.imread(path)\n",
        "  img = crop_image(img, plot=False)\n",
        "  if img is not None:\n",
        "    img = cv2.resize(img, (240, 240))\n",
        "    save_path = 'Crop-Brain-MRI/meningioma/' + str(j) + '.jpg'\n",
        "    cv2.imwrite(save_path, img)\n",
        "    j = j + 1\n",
        "\n",
        "j = 0\n",
        "for i in tqdm(os.listdir(pituitary)):\n",
        "  path = os.path.join(pituitary , i)\n",
        "  img = cv2.imread(path)\n",
        "  img = crop_image(img, plot=False)\n",
        "  if img is not None:\n",
        "    img = cv2.resize(img, (240, 240))\n",
        "    save_path = 'Crop-Brain-MRI/pituitary/' + str(j) + '.jpg'\n",
        "    cv2.imwrite(save_path, img)\n",
        "    j = j + 1\n",
        "\n",
        "j = 0\n",
        "for i in tqdm(os.listdir(no_tumor)):\n",
        "  path = os.path.join(no_tumor , i)\n",
        "  img = cv2.imread(path)\n",
        "  img = crop_image(img, plot=False)\n",
        "  if img is not None:\n",
        "    img = cv2.resize(img, (240, 240))\n",
        "    save_path = 'Crop-Brain-MRI/notumor/' + str(j) + '.jpg'\n",
        "    cv2.imwrite(save_path, img)\n",
        "    j = j + 1"
      ]
    },
    {
      "cell_type": "code",
      "execution_count": null,
      "metadata": {
        "id": "6mp2NjrYruUj"
      },
      "outputs": [],
      "source": [
        "test_glioma = test_dir + 'glioma'\n",
        "test_meningioma = test_dir + 'meningioma'\n",
        "test_pituitary = test_dir + 'pituitary'\n",
        "test_no_tumor = test_dir + 'notumor'\n",
        "j = 0\n",
        "for i in tqdm(os.listdir(test_glioma)):\n",
        "  path = os.path.join(test_glioma , i)\n",
        "  img = cv2.imread(path)\n",
        "  img = crop_image(img, plot=False)\n",
        "  if img is not None:\n",
        "    img = cv2.resize(img, (240, 240))\n",
        "    save_path = 'Test-Data/glioma/' + str(j) + '.jpg'\n",
        "    cv2.imwrite(save_path, img)\n",
        "    j = j + 1\n",
        "\n",
        "j = 0\n",
        "for i in tqdm(os.listdir(test_meningioma)):\n",
        "  path = os.path.join(test_meningioma , i)\n",
        "  img = cv2.imread(path)\n",
        "  img = crop_image(img, plot=False)\n",
        "  if img is not None:\n",
        "    img = cv2.resize(img, (240, 240))\n",
        "    save_path = 'Test-Data/meningioma/' + str(j) + '.jpg'\n",
        "    cv2.imwrite(save_path, img)\n",
        "    j = j + 1\n",
        "\n",
        "j = 0\n",
        "for i in tqdm(os.listdir(test_pituitary)):\n",
        "  path = os.path.join(test_pituitary , i)\n",
        "  img = cv2.imread(path)\n",
        "  img = crop_image(img, plot=False)\n",
        "  if img is not None:\n",
        "    img = cv2.resize(img, (240, 240))\n",
        "    save_path = 'Test-Data/pituitary/' + str(j) + '.jpg'\n",
        "    cv2.imwrite(save_path, img)\n",
        "    j = j + 1\n",
        "\n",
        "j = 0\n",
        "for i in tqdm(os.listdir(test_no_tumor)):\n",
        "  path = os.path.join(test_no_tumor , i)\n",
        "  img = cv2.imread(path)\n",
        "  img = crop_image(img, plot=False)\n",
        "  if img is not None:\n",
        "    img = cv2.resize(img, (240, 240))\n",
        "    save_path = 'Test-Data/notumor/' + str(j) + '.jpg'\n",
        "    cv2.imwrite(save_path, img)\n",
        "    j = j + 1"
      ]
    },
    {
      "cell_type": "code",
      "execution_count": null,
      "metadata": {
        "id": "356APBW2qO-c"
      },
      "outputs": [],
      "source": [
        "from tensorflow.keras.preprocessing.image import ImageDataGenerator, array_to_img, img_to_array"
      ]
    },
    {
      "cell_type": "code",
      "execution_count": null,
      "metadata": {
        "id": "HIJO5hW3qQYx"
      },
      "outputs": [],
      "source": [
        "datagen = ImageDataGenerator(rotation_range = 10,\n",
        "                             height_shift_range = 0.2,\n",
        "                             horizontal_flip = True,\n",
        "                             validation_split = 0.2)\n",
        "\n",
        "train_data = datagen.flow_from_directory('Crop-Brain-MRI/',\n",
        "                            target_size = (240, 240),\n",
        "                            batch_size = 32,\n",
        "                            class_mode = 'categorical', subset = 'training')\n",
        "\n",
        "valid_data = datagen.flow_from_directory('Crop-Brain-MRI/',\n",
        "                            target_size = (240, 240),\n",
        "                            batch_size = 32,\n",
        "                            class_mode = 'categorical', subset = 'validation')\n",
        "\n",
        "test_datagen = ImageDataGenerator()\n",
        "\n",
        "test_data = datagen.flow_from_directory('Test-Data/',\n",
        "                            target_size = (240, 240),\n",
        "                            class_mode = 'categorical', shuffle = False)"
      ]
    },
    {
      "cell_type": "code",
      "execution_count": null,
      "metadata": {
        "id": "u-Iw6k3tqU3U"
      },
      "outputs": [],
      "source": [
        "train_data.class_indices"
      ]
    },
    {
      "cell_type": "code",
      "execution_count": null,
      "metadata": {
        "id": "YhNx7j0ysjbG"
      },
      "outputs": [],
      "source": [
        "sample_x, sample_y = next(train_data)\n",
        "\n",
        "plt.figure(figsize = (12, 9))\n",
        "\n",
        "for i in range(6):\n",
        "  plt.subplot(2, 3, i+1)\n",
        "  sample = array_to_img(sample_x[i])\n",
        "  plt.axis('off')\n",
        "  plt.grid(False)\n",
        "  plt.imshow(sample)\n",
        "\n",
        "plt.show()"
      ]
    },
    {
      "cell_type": "code",
      "execution_count": null,
      "metadata": {
        "id": "JwZrcHiPslyp"
      },
      "outputs": [],
      "source": [
        "import tensorflow as tf\n",
        "from tensorflow.keras.applications import EfficientNetB1\n",
        "from tensorflow.keras.models import Model\n",
        "from tensorflow.keras.layers import Flatten, Dense, Conv2D, Dropout, GlobalMaxPooling2D\n",
        "from tensorflow.keras.optimizers import Adam\n",
        "from tensorflow.keras.callbacks import ModelCheckpoint, EarlyStopping, ReduceLROnPlateau"
      ]
    },
    {
      "cell_type": "code",
      "execution_count": null,
      "metadata": {
        "id": "bqT42gXBsq1A"
      },
      "outputs": [],
      "source": [
        "effenet  = EfficientNetB1(weights = 'imagenet', include_top = False, input_shape = (240, 240, 3))\n",
        "\n",
        "model = effenet.output\n",
        "model = GlobalMaxPooling2D()(model)\n",
        "model = Dropout(0.5)(model)\n",
        "model = Dense(4, activation=\"softmax\")(model)\n",
        "model = Model(inputs=effenet.input, outputs = model)\n",
        "model.summary()"
      ]
    },
    {
      "cell_type": "code",
      "execution_count": null,
      "metadata": {
        "id": "qJX1kO9_stg8"
      },
      "outputs": [],
      "source": [
        "model.compile(optimizer=Adam(learning_rate = 0.0001),\n",
        "              loss = 'categorical_crossentropy',\n",
        "              metrics = ['accuracy'])\n",
        "checkpoint = ModelCheckpoint('model.keras', monitor = 'val_accuracy',\n",
        "                save_best_only = True,\n",
        "                mode = 'auto',\n",
        "                verbose = 1)\n",
        "earlystop = EarlyStopping(monitor = 'val_accuracy',\n",
        "              patience = 5,\n",
        "              mode = 'auto', verbose = 1)\n",
        "\n",
        "reduce_lr = ReduceLROnPlateau(monitor = 'val_accuracy',\n",
        "                  factor = 0.3,\n",
        "                  patience = 2,\n",
        "                  min_delta = 0.001,\n",
        "                  mode = 'auto', verbose = 1)"
      ]
    },
    {
      "cell_type": "code",
      "execution_count": null,
      "metadata": {
        "id": "48W-oYR8s8Nb"
      },
      "outputs": [],
      "source": [
        "%%time\n",
        "history = model.fit(train_data, epochs = 10, validation_data = valid_data,\n",
        "                    verbose = 1, callbacks = [checkpoint, earlystop, reduce_lr])"
      ]
    },
    {
      "cell_type": "code",
      "execution_count": null,
      "metadata": {
        "id": "oUZGIfg1s-tP"
      },
      "outputs": [],
      "source": [
        "fig, ax = plt.subplots(1 , 2)\n",
        "fig.set_size_inches(20, 8)\n",
        "\n",
        "train_acc = history.history['accuracy']\n",
        "train_loss = history.history['loss']\n",
        "\n",
        "val_acc = history.history['val_accuracy']\n",
        "val_loss = history.history['val_loss']\n",
        "\n",
        "\n",
        "epochs = range(1, len(train_acc) + 1)\n",
        "\n",
        "ax[0].plot(epochs, train_acc, 'g-o', label = 'Training Accuracy')\n",
        "ax[0].plot(epochs, val_acc, 'y-o', label = 'Validation Accuracy')\n",
        "ax[0].set_title('Model Training & Validation Accuracy')\n",
        "ax[0].legend(loc = 'lower right')\n",
        "ax[0].set_xlabel(\"Epochs\")\n",
        "ax[0].set_ylabel(\"Accuracy\")\n",
        "\n",
        "ax[1].plot(epochs, train_loss, 'g-o', label = 'Training loss')\n",
        "ax[1].plot(epochs, val_loss, 'y-o', label = 'Validation loss')\n",
        "ax[1].set_title('Model Training & Validation loss')\n",
        "ax[1].legend()\n",
        "ax[1].set_xlabel(\"Epochs\")\n",
        "ax[1].set_ylabel(\"Loss\")\n",
        "plt.show()"
      ]
    },
    {
      "cell_type": "code",
      "execution_count": null,
      "metadata": {
        "id": "NG9J_7hBwwNl"
      },
      "outputs": [],
      "source": [
        "y_test = test_data.classes\n",
        "y_test_hat = np.argmax(model.predict(test_data), axis = 1)"
      ]
    },
    {
      "cell_type": "code",
      "execution_count": null,
      "metadata": {
        "id": "H2n4UKplw8zp"
      },
      "outputs": [],
      "source": [
        "from sklearn.metrics import ConfusionMatrixDisplay, accuracy_score, confusion_matrix, classification_report"
      ]
    },
    {
      "cell_type": "code",
      "execution_count": null,
      "metadata": {
        "id": "ToSOcLulw4nD"
      },
      "outputs": [],
      "source": [
        "cm = confusion_matrix(y_test, y_test_hat)"
      ]
    },
    {
      "cell_type": "code",
      "execution_count": null,
      "metadata": {
        "id": "ZUdK8_dJw68e"
      },
      "outputs": [],
      "source": [
        "cm_display = ConfusionMatrixDisplay(confusion_matrix = cm, display_labels = ['glioma', 'meningioma', 'notumor', 'pituitary'])\n",
        "cm_display.plot()\n",
        "plt.show()"
      ]
    },
    {
      "cell_type": "code",
      "execution_count": null,
      "metadata": {
        "id": "xTqmioOExAFd"
      },
      "outputs": [],
      "source": [
        "print(classification_report(y_test, y_test_hat))"
      ]
    },
    {
      "cell_type": "code",
      "execution_count": null,
      "metadata": {
        "id": "9yePGpq5xAvl"
      },
      "outputs": [],
      "source": [
        "import PIL\n",
        "\n",
        "CLASS_DICT = {0: 'glioma', 1: 'meningioma', 2: 'notumor', 3: 'pituitary'}\n",
        "\n",
        "images = []\n",
        "prediction = []\n",
        "original = []\n",
        "\n",
        "for i in os.listdir('/content/Test-Data'):\n",
        "  for item in os.listdir(os.path.join('/content/Test-Data', i)):\n",
        "    img = PIL.Image.open(os.path.join('/content/Test-Data', i, item))\n",
        "    images.append(img)\n",
        "    img = np.expand_dims(img, axis = 0)\n",
        "    predict = model.predict(img)\n",
        "    predict = np.argmax(predict)\n",
        "    prediction.append(CLASS_DICT[predict])\n",
        "    original.append(i)"
      ]
    },
    {
      "cell_type": "code",
      "execution_count": null,
      "metadata": {
        "id": "5BnKmRNXxJeW"
      },
      "outputs": [],
      "source": [
        "score = accuracy_score(original, prediction)\n",
        "score"
      ]
    },
    {
      "cell_type": "code",
      "execution_count": null,
      "metadata": {
        "id": "KB6Wmb0c4g3-"
      },
      "outputs": [],
      "source": [
        "fig = plt.figure(figsize = (20, 20))\n",
        "\n",
        "for i in range(10):\n",
        "  j = random.randint(0, len(images))\n",
        "  fig.add_subplot(5, 2, i+1)\n",
        "  plt.xlabel(\"Prediction : \" + prediction[j] + \"   Original:    \" + original[j])\n",
        "  plt.imshow(images[j])\n",
        "fig.tight_layout()\n",
        "plt.show()"
      ]
    },
    {
      "cell_type": "code",
      "execution_count": null,
      "metadata": {
        "id": "vtb0qfy_4kB7"
      },
      "outputs": [],
      "source": [
        "model.save('cnn_model.h5')"
      ]
    },
    {
      "cell_type": "code",
      "execution_count": null,
      "metadata": {
        "id": "FlTFJrVlFLKW"
      },
      "outputs": [],
      "source": []
    }
  ],
  "metadata": {
    "accelerator": "GPU",
    "colab": {
      "gpuType": "T4",
      "private_outputs": true,
      "provenance": []
    },
    "kernelspec": {
      "display_name": "deeplearning",
      "language": "python",
      "name": "python3"
    },
    "language_info": {
      "name": "python",
      "version": "3.10.16"
    }
  },
  "nbformat": 4,
  "nbformat_minor": 0
}
