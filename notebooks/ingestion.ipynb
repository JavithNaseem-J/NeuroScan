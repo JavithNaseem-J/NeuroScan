{
 "cells": [
  {
   "cell_type": "code",
   "execution_count": 1,
   "id": "0252efcc",
   "metadata": {},
   "outputs": [],
   "source": [
    "import os\n",
    "import sys"
   ]
  },
  {
   "cell_type": "code",
   "execution_count": 2,
   "id": "c0ab6f68",
   "metadata": {},
   "outputs": [],
   "source": [
    "os.chdir('../')"
   ]
  },
  {
   "cell_type": "code",
   "execution_count": 3,
   "id": "322b5136",
   "metadata": {},
   "outputs": [],
   "source": [
    "sys.path.append(os.path.join(os.getcwd(), 'src'))"
   ]
  },
  {
   "cell_type": "code",
   "execution_count": 4,
   "id": "4feb2f8f",
   "metadata": {},
   "outputs": [],
   "source": [
    "from dataclasses import dataclass\n",
    "from pathlib import Path\n",
    "from NeuroScan.utils.helpers import *\n",
    "from NeuroScan.constants.paths import *"
   ]
  },
  {
   "cell_type": "code",
   "execution_count": 5,
   "id": "85181ffb",
   "metadata": {},
   "outputs": [],
   "source": [
    "@dataclass\n",
    "class DataIngestionConfig:\n",
    "    root_dir: Path\n",
    "    download_url: str\n",
    "    raw_data_dir: Path\n",
    "    extracted_data_dir: Path\n",
    "    kaggle_username: str\n",
    "    kaggle_api_key: str"
   ]
  },
  {
   "cell_type": "code",
   "execution_count": 6,
   "id": "f533ec0e",
   "metadata": {},
   "outputs": [],
   "source": [
    "from dotenv import load_dotenv\n",
    "\n",
    "class DataConfigurationManager:\n",
    "    def __init__(self, config_file=CONFIG_PATH, params_file=PARAMS_PATH):\n",
    "        self.config = read_yaml(config_file)\n",
    "        self.params = read_yaml(params_file)\n",
    "\n",
    "        load_dotenv()\n",
    "\n",
    "        create_directories([self.config.artifacts_root])\n",
    "\n",
    "    def get_data_ingestion_config(self) -> DataIngestionConfig:\n",
    "        config = self.config.ingestion\n",
    "\n",
    "        return DataIngestionConfig(\n",
    "            root_dir=Path(config.root_dir),\n",
    "            download_url=config.download_url,\n",
    "            raw_data_dir=Path(config.raw_data_dir),\n",
    "            extracted_data_dir=Path(config.extracted_data_dir),\n",
    "            kaggle_username=os.getenv(\"kaggle_username\"),\n",
    "            kaggle_api_key=os.getenv(\"kaggle_api_key\")\n",
    "        )"
   ]
  },
  {
   "cell_type": "code",
   "execution_count": 7,
   "id": "d04b5ec7",
   "metadata": {},
   "outputs": [],
   "source": [
    "from kaggle.api.kaggle_api_extended import KaggleApi\n",
    "import zipfile\n",
    "import os\n",
    "from pathlib import Path\n",
    "import glob\n",
    "\n",
    "class DataIngestion:\n",
    "    def __init__(self, config: DataIngestionConfig):\n",
    "        self.config = config\n",
    "\n",
    "    def set_kaggle_credentials(self):\n",
    "        os.environ[\"KAGGLE_USERNAME\"] = self.config.kaggle_username\n",
    "        os.environ[\"KAGGLE_KEY\"] = self.config.kaggle_api_key\n",
    "        logger.info(\"Kaggle credentials set for API access.\")\n",
    "\n",
    "    def download_file(self):\n",
    "        self.set_kaggle_credentials()\n",
    "\n",
    "        if not os.path.exists(self.config.extracted_data_dir) or not os.listdir(self.config.extracted_data_dir):\n",
    "            os.makedirs(self.config.raw_data_dir, exist_ok=True)\n",
    "            logger.info(\"Downloading dataset from Kaggle API...\")\n",
    "\n",
    "            api = KaggleApi()\n",
    "            api.authenticate()\n",
    "\n",
    "            api.dataset_download_files(\n",
    "                dataset=self.config.download_url,\n",
    "                path=str(self.config.raw_data_dir),\n",
    "                unzip=False,\n",
    "                quiet=False\n",
    "            )\n",
    "\n",
    "            zip_files = glob.glob(str(self.config.raw_data_dir / \"*.zip\"))\n",
    "            if not zip_files:\n",
    "                raise FileNotFoundError(\"No .zip file found in raw_data_dir after download.\")\n",
    "\n",
    "            zip_path = zip_files[0]  # assume only one zip\n",
    "            logger.info(f\"Dataset downloaded as: {zip_path}\")\n",
    "\n",
    "            with zipfile.ZipFile(zip_path, 'r') as zip_ref:\n",
    "                zip_ref.extractall(self.config.raw_data_dir)\n",
    "            logger.info(f\"Dataset extracted to: {self.config.raw_data_dir}\")\n",
    "\n",
    "            os.remove(zip_path)\n",
    "        else:\n",
    "            logger.info(f\"Dataset already exists at: {self.config.extracted_data_dir}\")\n"
   ]
  },
  {
   "cell_type": "code",
   "execution_count": null,
   "id": "6042bcf8",
   "metadata": {},
   "outputs": [],
   "source": [
    "config = DataConfigurationManager()\n",
    "ingestion_config = config.get_data_ingestion_config()\n",
    "data_ingestor = DataIngestion(config=ingestion_config)\n",
    "data_ingestor.download_file()"
   ]
  }
 ],
 "metadata": {
  "kernelspec": {
   "display_name": "NeuroScan",
   "language": "python",
   "name": "python3"
  },
  "language_info": {
   "codemirror_mode": {
    "name": "ipython",
    "version": 3
   },
   "file_extension": ".py",
   "mimetype": "text/x-python",
   "name": "python",
   "nbconvert_exporter": "python",
   "pygments_lexer": "ipython3",
   "version": "3.9.23"
  }
 },
 "nbformat": 4,
 "nbformat_minor": 5
}
